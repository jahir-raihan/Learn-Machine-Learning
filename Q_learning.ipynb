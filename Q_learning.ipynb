{
  "nbformat": 4,
  "nbformat_minor": 0,
  "metadata": {
    "colab": {
      "provenance": []
    },
    "kernelspec": {
      "name": "python3",
      "display_name": "Python 3"
    },
    "language_info": {
      "name": "python"
    }
  },
  "cells": [
    {
      "cell_type": "code",
      "execution_count": 1,
      "metadata": {
        "id": "ro5t6iOB0St8"
      },
      "outputs": [],
      "source": [
        "import numpy as np"
      ]
    },
    {
      "cell_type": "code",
      "source": [
        "# Define the states\n",
        "location_to_state = {\n",
        "    'L1': 0,\n",
        "    'L2': 1,\n",
        "    'L3': 2,\n",
        "    'L4': 3,\n",
        "    'L5': 4,\n",
        "    'L6': 5,\n",
        "    'L7': 6,\n",
        "    'L8': 7,\n",
        "    'L9': 8\n",
        "}"
      ],
      "metadata": {
        "id": "tDb5YbpF2KFE"
      },
      "execution_count": 2,
      "outputs": []
    },
    {
      "cell_type": "code",
      "source": [
        "# Define the actions\n",
        "actions = [0, 1, 2, 3, 4, 5, 6, 7, 8]"
      ],
      "metadata": {
        "id": "aw4m-vaD2qfO"
      },
      "execution_count": 3,
      "outputs": []
    },
    {
      "cell_type": "code",
      "source": [
        "# Define the rewards\n",
        "rewards = np.array([\n",
        "    [0, 1, 0, 0, 0, 0, 0, 0, 0],\n",
        "    [1, 0, 1, 0, 1, 0, 0, 0, 0],\n",
        "    [0, 1, 0, 0, 0, 1, 0, 0, 0],\n",
        "    [0, 0, 0, 0, 0, 0, 1, 0, 0],\n",
        "    [0, 1, 0, 0, 0, 0, 0, 1, 0],\n",
        "    [0, 0, 1, 0, 0, 0, 0, 0, 0],\n",
        "    [0, 0, 0, 1, 0, 0, 0, 1, 0],\n",
        "    [0, 0, 0, 0, 1, 0, 1, 0, 1],\n",
        "    [0, 0, 0, 0, 0, 0, 0, 1, 0]\n",
        "])"
      ],
      "metadata": {
        "id": "JTMTA5mQ21hD"
      },
      "execution_count": 4,
      "outputs": []
    },
    {
      "cell_type": "code",
      "source": [
        "state_to_location = dict((state, location) for location, state in location_to_state.items())\n",
        "\n",
        "\n",
        "# Initialize parameters\n",
        "gamma = 0.75 # Discount factor\n",
        "alpha = 0.9 # Learning rate\n"
      ],
      "metadata": {
        "id": "kpIXe6XW4NkA"
      },
      "execution_count": 5,
      "outputs": []
    },
    {
      "cell_type": "code",
      "source": [
        "class QAgent:\n",
        "\n",
        "  # Initialize alpha, gamma, states, actions, rewards, and Q-values\n",
        "  def __init__(self, alpha, gamma, location_to_state, actions, rewards, state_to_location):\n",
        "\n",
        "    self.gamma = gamma\n",
        "    self.alpha = alpha\n",
        "    self.location_to_state = location_to_state\n",
        "    self.actions = actions\n",
        "    self.rewards = rewards\n",
        "    self.state_to_location = state_to_location\n",
        "\n",
        "    M = len(location_to_state)\n",
        "    self.Q = np.zeros((M,M), dtype=None, order='C')\n",
        "\n",
        "  def training(self, start_location, end_location, iterations):\n",
        "\n",
        "    rewards_new = np.copy(self.rewards)\n",
        "    ending_state = self.location_to_state[end_location]\n",
        "    rewards_new[ending_state, ending_state] = 999\n",
        "\n",
        "    # picking a random current state\n",
        "    for i in range(iterations):\n",
        "      current_state = np.random.randint(0, 9)\n",
        "      playable_actions = []\n",
        "\n",
        "\n",
        "      # iterate through the rewards matrix to get the states\n",
        "      # directly reachable from the randomly chosen current state\n",
        "      # assign those state in a list named playable_actions\n",
        "\n",
        "      for j in range(9):\n",
        "        if rewards_new[current_state, j] > 0:\n",
        "          playable_actions.append(j)\n",
        "\n",
        "      # Choosing a random next state\n",
        "      next_state = np.random.choice(playable_actions)\n",
        "\n",
        "      # Finding temporal difference\n",
        "      TD = rewards_new[current_state, next_state] + self.gamma * self.Q[next_state, np.argmax(self.Q[next_state,])] - self.Q[current_state, next_state]\n",
        "\n",
        "      self.Q[current_state, next_state] += self.alpha * TD\n",
        "\n",
        "    route = [start_location]\n",
        "    next_location = start_location\n",
        "\n",
        "    # Get the route\n",
        "    self.get_optimal_route(start_location, end_location, next_location, route, self.Q)\n",
        "\n",
        "  def get_optimal_route(self, start_location, end_location, next_location, route, Q):\n",
        "\n",
        "    while (next_location != end_location):\n",
        "      starting_state = self.location_to_state[start_location]\n",
        "      next_state = np.argmax(Q[starting_state])\n",
        "      next_location = self.state_to_location[next_state]\n",
        "      route.append(next_location)\n",
        "      start_location = next_location\n",
        "    print(route)\n"
      ],
      "metadata": {
        "id": "jck2eY_N4gq6"
      },
      "execution_count": 9,
      "outputs": []
    },
    {
      "cell_type": "code",
      "source": [
        "qagent = QAgent(alpha, gamma, location_to_state, actions, rewards, state_to_location)\n",
        "qagent.training('L9', 'L1', 1000)"
      ],
      "metadata": {
        "colab": {
          "base_uri": "https://localhost:8080/"
        },
        "id": "gclsYCEg-I9G",
        "outputId": "58e761e7-704d-4e32-9a91-fca6af948acc"
      },
      "execution_count": 10,
      "outputs": [
        {
          "output_type": "stream",
          "name": "stdout",
          "text": [
            "['L9', 'L8', 'L5', 'L2', 'L1']\n"
          ]
        }
      ]
    },
    {
      "cell_type": "code",
      "source": [],
      "metadata": {
        "id": "x-DmhU1C-SHT"
      },
      "execution_count": null,
      "outputs": []
    }
  ]
}